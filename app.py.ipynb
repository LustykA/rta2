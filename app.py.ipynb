{
 "cells": [
  {
   "cell_type": "code",
   "execution_count": null,
   "id": "b4cd527b",
   "metadata": {},
   "outputs": [],
   "source": [
    "from flask import Flask, request, jsonify\n",
    "import pickle\n",
    "import numpy as np\n",
    "import sklearn\n",
    "import requests\n",
    "import io\n",
    "\n",
    "# utwórz obiekt app\n",
    "app = Flask(__name__)\n",
    "\n",
    "\n",
    "@app.route(\"/api/v1.0/predict\", methods=['GET'])\n",
    "def fun():\n",
    "    url = \"https://github.com/LustykA/rta2/blob/5345059159aa88edc7c5683640af3bed6440b2a7/perceptron.pkl\"\n",
    "    response = requests.get(url)\n",
    "    response.raise_for_status()  # Ensure the request was successful\n",
    "\n",
    "    picklefile = io.BytesIO(response.content)\n",
    "    nn = pickle.load(picklefile)\n",
    "    x1 = request.args.get(\"x1\", 0, type=float)\n",
    "    x2 = request.args.get(\"x2\", 0, type=float)\n",
    "    features = {'x1': x1, 'x2': x2}\n",
    "    predicted_class = nn.predict([[x1, x2]])[0]\n",
    "    return jsonify(features=features, predicted_class=predicted_class)\n",
    "\n",
    "\n",
    "if __name__ == '__main__':\n",
    "    app.run()"
   ]
  }
 ],
 "metadata": {
  "kernelspec": {
   "display_name": "Python 3 (ipykernel)",
   "language": "python",
   "name": "python3"
  },
  "language_info": {
   "codemirror_mode": {
    "name": "ipython",
    "version": 3
   },
   "file_extension": ".py",
   "mimetype": "text/x-python",
   "name": "python",
   "nbconvert_exporter": "python",
   "pygments_lexer": "ipython3",
   "version": "3.11.5"
  }
 },
 "nbformat": 4,
 "nbformat_minor": 5
}
