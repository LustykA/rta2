{
 "cells": [
  {
   "cell_type": "code",
   "execution_count": null,
   "id": "6c6ed037",
   "metadata": {},
   "outputs": [],
   "source": [
    "FROM python:3.11-slim-buster\n",
    "\n",
    "WORKDIR /app\n",
    "\n",
    "COPY req.txt req.txt\n",
    "\n",
    "RUN pip install -r req.txt\n",
    "\n",
    "COPY app.py .\n",
    "\n",
    "ENV FLASK_APP=app\n",
    "\n",
    "EXPOSE 8000\n",
    "CMD [\"flask\", \"run\", \"--host\", \"0.0.0.0\", \"--port\", \"8000\"]"
   ]
  }
 ],
 "metadata": {
  "kernelspec": {
   "display_name": "Python 3 (ipykernel)",
   "language": "python",
   "name": "python3"
  },
  "language_info": {
   "codemirror_mode": {
    "name": "ipython",
    "version": 3
   },
   "file_extension": ".py",
   "mimetype": "text/x-python",
   "name": "python",
   "nbconvert_exporter": "python",
   "pygments_lexer": "ipython3",
   "version": "3.11.5"
  }
 },
 "nbformat": 4,
 "nbformat_minor": 5
}
